{
 "cells": [
  {
   "cell_type": "code",
   "execution_count": 1,
   "id": "5fe848e3",
   "metadata": {},
   "outputs": [],
   "source": [
    "import numpy as np\n",
    "import pandas as pd"
   ]
  },
  {
   "cell_type": "markdown",
   "id": "b02d2e8d",
   "metadata": {},
   "source": [
    "## 2 Language Identification with Naive Bayes "
   ]
  },
  {
   "cell_type": "markdown",
   "id": "0ee5cc6a",
   "metadata": {},
   "source": [
    "### 1."
   ]
  },
  {
   "cell_type": "code",
   "execution_count": 2,
   "id": "0c3e1dfd",
   "metadata": {},
   "outputs": [
    {
     "name": "stdout",
     "output_type": "stream",
     "text": [
      "{'e': 0.333333, 'j': 0.333333, 's': 0.333333}\n"
     ]
    }
   ],
   "source": [
    "pre = ['e', 'j', 's']\n",
    "labels = []\n",
    "docs = []\n",
    "for p in pre:\n",
    "    for i in range(10):\n",
    "        filename = f'languageID/{p}{i}.txt'\n",
    "        labels.append(p)\n",
    "        docs.append(open(filename).read())\n",
    "# convert doccument to list of chars\n",
    "docs = [[c  for c in list(doc.lower()) if c  \\\n",
    "         in 'qwertyuiopasdfghjklzxcvbnm '] for doc in docs]\n",
    "alldocs = [i for p in docs for i in p]\n",
    "S = set(alldocs)\n",
    "KS = len(S)\n",
    "N = 30\n",
    "L = set(labels)\n",
    "KL = len(L)\n",
    "alpha = 0.5\n",
    "\n",
    "priors = {}\n",
    "for p in pre:\n",
    "    count = labels.count(p)\n",
    "    pri = (count + alpha) / (N + KL * alpha)\n",
    "    priors[p] = round(pri, 6)\n",
    "print(priors)"
   ]
  },
  {
   "cell_type": "markdown",
   "id": "54b27cc2",
   "metadata": {},
   "source": [
    "### 2."
   ]
  },
  {
   "cell_type": "code",
   "execution_count": 3,
   "id": "65f8385d",
   "metadata": {},
   "outputs": [
    {
     "name": "stdout",
     "output_type": "stream",
     "text": [
      "theta_e:\n",
      "{'a': 0.060169, 'b': 0.011135, 'c': 0.02151, 'd': 0.021973, 'e': 0.105369, 'f': 0.018933, 'g': 0.017479, 'h': 0.047216, 'i': 0.055411, 'j': 0.001421, 'k': 0.003734, 'l': 0.028977, 'm': 0.020519, 'n': 0.057922, 'o': 0.064464, 'p': 0.016752, 'q': 0.000562, 'r': 0.053825, 's': 0.066182, 't': 0.080126, 'u': 0.026664, 'v': 0.009285, 'w': 0.015496, 'x': 0.001156, 'y': 0.013844, 'z': 0.000628, ' ': 0.17925}\n"
     ]
    }
   ],
   "source": [
    "condi_probs = {}\n",
    "for p in pre:\n",
    "    condi_probs[p] = {}\n",
    "    for c in 'abcdefghijklmnopqrstuvwxyz ':\n",
    "        top = sum([docs[i].count(c) for i in  \\\n",
    "                 range(len(labels)) if labels[i] == p]) + alpha\n",
    "        bottom = sum([len(docs[i]) for i in  \\\n",
    "                 range(len(labels)) if labels[i] == p]) + KS * alpha\n",
    "        condi_probs[p][c] = round(top / bottom, 6)\n",
    "\n",
    "print('theta_e:')\n",
    "print(condi_probs['e'])\n"
   ]
  },
  {
   "cell_type": "markdown",
   "id": "9aa40b79",
   "metadata": {},
   "source": [
    "### 3."
   ]
  },
  {
   "cell_type": "code",
   "execution_count": 4,
   "id": "bc156d92",
   "metadata": {},
   "outputs": [
    {
     "name": "stdout",
     "output_type": "stream",
     "text": [
      "\n",
      "theta_j:\n",
      "{'a': 0.131766, 'b': 0.010867, 'c': 0.005486, 'd': 0.017226, 'e': 0.060205, 'f': 0.003879, 'g': 0.014012, 'h': 0.031762, 'i': 0.097033, 'j': 0.002341, 'k': 0.057409, 'l': 0.001433, 'm': 0.039799, 'n': 0.056711, 'o': 0.091163, 'p': 0.000874, 'q': 0.000105, 'r': 0.042804, 's': 0.042175, 't': 0.05699, 'u': 0.070617, 'v': 0.000245, 'w': 0.019742, 'x': 3.5e-05, 'y': 0.014151, 'z': 0.007722, ' ': 0.123449}\n",
      "\n",
      "theta_s:\n",
      "{'a': 0.10456, 'b': 0.008233, 'c': 0.037526, 'd': 0.039746, 'e': 0.113811, 'f': 0.008603, 'g': 0.007184, 'h': 0.004533, 'i': 0.04986, 'j': 0.006629, 'k': 0.000278, 'l': 0.052943, 'm': 0.025809, 'n': 0.054177, 'o': 0.072492, 'p': 0.024267, 'q': 0.007678, 'r': 0.059295, 's': 0.06577, 't': 0.035614, 'u': 0.033702, 'v': 0.005889, 'w': 9.3e-05, 'x': 0.002498, 'y': 0.007863, 'z': 0.002683, ' ': 0.168265}\n"
     ]
    }
   ],
   "source": [
    "print('\\ntheta_j:')\n",
    "print(condi_probs['j'])\n",
    "print('\\ntheta_s:')\n",
    "print(condi_probs['s'])"
   ]
  },
  {
   "cell_type": "markdown",
   "id": "e7c3fa1f",
   "metadata": {},
   "source": [
    "### 4."
   ]
  },
  {
   "cell_type": "code",
   "execution_count": 5,
   "id": "9bddb5be",
   "metadata": {},
   "outputs": [
    {
     "name": "stdout",
     "output_type": "stream",
     "text": [
      "The bag-of-words vector x:\n",
      "[164, 32, 53, 57, 311, 55, 51, 140, 140, 3, 6, 85, 64, 139, 182, 53, 3, 141, 186, 225, 65, 31, 47, 4, 38, 2, 498]\n",
      "\n",
      "The length of vector x:\n",
      "27\n"
     ]
    }
   ],
   "source": [
    "test = open('languageID/e10.txt').read().lower()\n",
    "test = [test.count(c) for c in 'abcdefghijklmnopqrstuvwxyz ']\n",
    "\n",
    "print('The bag-of-words vector x:')\n",
    "print(test)\n",
    "print('\\nThe length of vector x:')\n",
    "print(len(test))"
   ]
  },
  {
   "cell_type": "markdown",
   "id": "ac9cf68a",
   "metadata": {},
   "source": [
    "### 5."
   ]
  },
  {
   "cell_type": "code",
   "execution_count": 6,
   "id": "546f239b",
   "metadata": {},
   "outputs": [
    {
     "name": "stdout",
     "output_type": "stream",
     "text": [
      "The probabilities in log space:\n",
      "{'e': -7841.86, 'j': -8771.31, 's': -8467.01}\n"
     ]
    }
   ],
   "source": [
    "import numpy as np\n",
    "\n",
    "log_p_xy = {}\n",
    "pre = ['e', 'j', 's']\n",
    "for p in pre:\n",
    "    log_p_xy[p] = 0\n",
    "    for i in range(len(test)):\n",
    "        c = 'abcdefghijklmnopqrstuvwxyz '[i]\n",
    "        log_p_xy[p] += test[i] * np.log(condi_probs[p][c])\n",
    "    log_p_xy[p] = round(log_p_xy[p], 2)\n",
    "print('The probabilities in log space:')\n",
    "print(log_p_xy)"
   ]
  },
  {
   "cell_type": "markdown",
   "id": "97ff3608",
   "metadata": {},
   "source": [
    "### 6."
   ]
  },
  {
   "cell_type": "code",
   "execution_count": 7,
   "id": "2bd18598",
   "metadata": {},
   "outputs": [
    {
     "name": "stdout",
     "output_type": "stream",
     "text": [
      "{'e': -7842.96, 'j': -8772.41, 's': -8468.11}\n"
     ]
    }
   ],
   "source": [
    "log_p_yx = {}\n",
    "pre = ['e', 'j', 's']\n",
    "for p in pre:\n",
    "    log_p_yx[p] = round(log_p_xy[p] + np.log(priors[p]), 2)\n",
    "\n",
    "print(log_p_yx)"
   ]
  },
  {
   "cell_type": "markdown",
   "id": "8742c597",
   "metadata": {},
   "source": [
    "### 7."
   ]
  },
  {
   "cell_type": "code",
   "execution_count": 8,
   "id": "32e113f3",
   "metadata": {},
   "outputs": [
    {
     "name": "stdout",
     "output_type": "stream",
     "text": [
      "Confusion matrix:\n",
      "[[10  0  0]\n",
      " [ 0 10  0]\n",
      " [ 0  0 10]]\n"
     ]
    }
   ],
   "source": [
    "from sklearn.metrics import confusion_matrix \n",
    "\n",
    "\n",
    "def predict(filename, condi_probs, priors, L):\n",
    "    test = open(filename).read().lower()\n",
    "    test = [test.count(c) for c in 'abcdefghijklmnopqrstuvwxyz ']\n",
    "    log_p_xy = {}\n",
    "    #compute log_p_xy\n",
    "    for p in L:\n",
    "        log_p_xy[p] = 0\n",
    "        for i in range(len(test)):\n",
    "            c = 'abcdefghijklmnopqrstuvwxyz '[i]\n",
    "            log_p_xy[p] += test[i] * np.log(condi_probs[p][c])\n",
    "        log_p_xy[p] = round(log_p_xy[p], 2)\n",
    "    log_p_yx = {}\n",
    "    #compute log_p_yx\n",
    "    for p in L:\n",
    "        log_p_yx[p] = round(log_p_xy[p] + np.log(priors[p]), 2)\n",
    "    predict = ''\n",
    "    # compute the prediction\n",
    "    max_value = -np.inf\n",
    "    for key, value in log_p_yx.items():\n",
    "        if value > max_value:\n",
    "            predict = key\n",
    "            max_value = value\n",
    "    return predict\n",
    "\n",
    "pre = ['e', 'j', 's']\n",
    "true_test_labels = []\n",
    "predict_test_labels = []\n",
    "for p in pre:\n",
    "    for i in range(10, 20):\n",
    "        true_test_labels.append(p)\n",
    "        filename = f'languageID/{p}{i}.txt'\n",
    "        predict_test_labels.append(predict(filename, condi_probs, priors, L))\n",
    "        \n",
    "print('Confusion matrix:')\n",
    "print(confusion_matrix(true_test_labels, predict_test_labels))"
   ]
  },
  {
   "cell_type": "markdown",
   "id": "72d14c5b",
   "metadata": {},
   "source": [
    "## 3 Simple Feed-Forward Network"
   ]
  },
  {
   "cell_type": "markdown",
   "id": "90f0b38a",
   "metadata": {},
   "source": [
    "### 2."
   ]
  },
  {
   "cell_type": "code",
   "execution_count": 9,
   "id": "9af2f50f",
   "metadata": {},
   "outputs": [],
   "source": [
    "from sklearn.datasets import fetch_openml\n",
    "import numpy as np\n",
    "from sklearn.model_selection import train_test_split\n",
    "\n",
    "#read the mnist data\n",
    "x,y = fetch_openml('mnist_784',version=1,return_X_y=True)\n",
    "x = x.values\n",
    "y = y.values\n",
    "y = [int(c) for c in y]"
   ]
  },
  {
   "cell_type": "code",
   "execution_count": 13,
   "id": "de0e7741",
   "metadata": {},
   "outputs": [
    {
     "name": "stderr",
     "output_type": "stream",
     "text": [
      "/var/folders/yk/2bzs17_n4nv4sbv6lbhlhd2c0000gn/T/ipykernel_32904/4247078838.py:4: RuntimeWarning: overflow encountered in exp\n",
      "  return 1 / (1 + np.exp(-x))\n"
     ]
    }
   ],
   "source": [
    "# activation functions\n",
    "\n",
    "def sigmoid(x):\n",
    "    return 1 / (1 + np.exp(-x))\n",
    "\n",
    "def softmax(x):\n",
    "    return np.exp(x) / np.exp(x).sum(axis = 1).reshape(-1,1)\n",
    "\n",
    "# loss function\n",
    "def cross_entropy_loss(y, y_hat):\n",
    "    return -np.sum(y * np.log(y_hat))\n",
    "\n",
    "# convert the label to one-hot\n",
    "def onehot(y):\n",
    "    return np.eye(10)[y]\n",
    "\n",
    "# forward \n",
    "def forword(x, W1, W2, W3):\n",
    "    z1 = x @ W1\n",
    "    sigma1 = sigmoid(z1)\n",
    "    z2 = sigma1 @ W2\n",
    "    sigma2 = sigmoid(z2)\n",
    "    z3 = sigma2 @ W3\n",
    "    y_hat = softmax(z3)\n",
    "    return z1, z2, z3, sigma1, sigma2, y_hat\n",
    "\n",
    "# backward\n",
    "def backward(x, y, y_hat, W1, W2, W3, z1, z2, z3, sigma1, sigma2):\n",
    "    dw3 = sigma2.T @ (y_hat- y) \n",
    "    dw2 = sigma1.T @ ((y_hat - y)@W3.T*sigma2*(1-sigma2))\n",
    "    dw1 = x.T @((y_hat - y)@W3.T*sigma2*(1-sigma2)@W2.T*sigma1*(1-sigma1))\n",
    "    return dw1, dw2, dw3\n",
    "\n",
    "# predict the labels and probabilities\n",
    "def predict(x, W1, W2, W3):\n",
    "    z1, z2, z3, sigma1, sigma2, pre_probs = forword(x, W1, W2, W3)\n",
    "    return pre_probs, np.argmax(pre_probs,axis=1)\n",
    "\n",
    "# calculate the accuracy of prediction\n",
    "def accuracy(y, y_hat):\n",
    "    return sum(y == y_hat) / len(y_hat)\n",
    "\n",
    "X_train, X_test, y_train, y_test = train_test_split(x, y, test_size=0.2, random_state=3)\n",
    "\n",
    "# define the parameters\n",
    "inputdim = 784\n",
    "h1 = 32\n",
    "h2 = 16\n",
    "outdim = 10\n",
    "lr = 0.001\n",
    "batch_size = 100\n",
    "epoch = 30\n",
    "\n",
    "W1 = np.random.randn(inputdim, h1) / 1000\n",
    "W2 = np.random.randn(h1, h2) / 1000\n",
    "W3 = np.random.randn(h2, outdim) / 1000\n",
    "train_losses = []\n",
    "test_losses = []\n",
    "trian_errors = []\n",
    "test_errors = []\n",
    "for i in range(epoch):\n",
    "    # gradient descent backpropagation \n",
    "    for iter_ in range(X_train.shape[0] // batch_size):\n",
    "        xt = X_train[iter_ * batch_size: (iter_ + 1) * batch_size]\n",
    "        yt = y_train[iter_ * batch_size: (iter_ + 1) * batch_size]\n",
    "        yt = onehot(yt)\n",
    "        z1, z2, z3, sigma1, sigma2, y_hat = forword(xt, W1, W2, W3)\n",
    "        dw1, dw2, dw3 = backward(xt, yt, y_hat, W1, W2, W3, z1, z2, z3, sigma1, sigma2)\n",
    "        W1 = W1 - lr * dw1\n",
    "        W2 = W2 - lr * dw2\n",
    "        W3 = W3 - lr * dw3\n",
    "    \n",
    "    #calculate the train and test errors\n",
    "    accus = []\n",
    "    for iter_ in range(X_train.shape[0] // batch_size):\n",
    "        xt = X_train[iter_ * batch_size: (iter_ + 1) * batch_size]\n",
    "        y_ = y_train[iter_ * batch_size: (iter_ + 1) * batch_size]\n",
    "        yt = onehot(y_)\n",
    "        pre_probs, predictions = predict(xt, W1, W2, W3)\n",
    "        accus.append(accuracy(y_, predictions))\n",
    "    trian_errors.append(1 - np.mean(accus))\n",
    "        \n",
    "    accus = []\n",
    "    for iter_ in range(X_test.shape[0] // batch_size):\n",
    "        xt = X_test[iter_ * batch_size: (iter_ + 1) * batch_size]\n",
    "        y_ = y_test[iter_ * batch_size: (iter_ + 1) * batch_size]\n",
    "        yt = onehot(y_)\n",
    "        pre_probs, predictions = predict(xt, W1, W2, W3)\n",
    "        accus.append(accuracy(y_, predictions))\n",
    "    test_errors.append(1 - np.mean(accus))\n",
    "        "
   ]
  },
  {
   "cell_type": "code",
   "execution_count": 14,
   "id": "ad108354",
   "metadata": {},
   "outputs": [
    {
     "data": {
      "image/png": "[encoded data removed]",
      "text/plain": [
       "<Figure size 504x360 with 1 Axes>"
      ]
     },
     "metadata": {
      "needs_background": "light"
     },
     "output_type": "display_data"
    }
   ],
   "source": [
    "# draw the learning curve\n",
    "import matplotlib.pyplot as plt\n",
    "\n",
    "plt.figure(figsize = (7, 5))\n",
    "plt.plot(range(1, len(trian_errors) + 1),  trian_errors)\n",
    "plt.plot(range(1, len(test_errors) + 1),  test_errors)\n",
    "plt.legend(['trian error', 'test error'])\n",
    "plt.xlabel('epoch')\n",
    "plt.ylabel('error')\n",
    "plt.title('The learning curve of my network model')\n",
    "plt.show()"
   ]
  },
  {
   "cell_type": "code",
   "execution_count": 15,
   "id": "81f66595",
   "metadata": {},
   "outputs": [
    {
     "name": "stdout",
     "output_type": "stream",
     "text": [
      "Test error:\n"
     ]
    },
    {
     "data": {
      "text/plain": [
       "0.14428571428571424"
      ]
     },
     "execution_count": 15,
     "metadata": {},
     "output_type": "execute_result"
    }
   ],
   "source": [
    "print('Test error:')\n",
    "test_errors[-1]"
   ]
  },
  {
   "cell_type": "code",
   "execution_count": 16,
   "id": "a35cbe62",
   "metadata": {},
   "outputs": [
    {
     "name": "stdout",
     "output_type": "stream",
     "text": [
      "0.83\n",
      "0.685\n",
      "0.596\n",
      "0.517\n",
      "0.38\n",
      "0.338\n",
      "0.267\n",
      "0.261\n",
      "0.247\n",
      "0.218\n",
      "0.196\n",
      "0.189\n",
      "0.201\n",
      "0.205\n",
      "0.206\n",
      "0.193\n",
      "0.2\n",
      "0.198\n",
      "0.184\n",
      "0.168\n",
      "0.167\n",
      "0.17\n",
      "0.18\n",
      "0.179\n",
      "0.162\n",
      "0.158\n",
      "0.168\n",
      "0.162\n",
      "0.152\n",
      "0.144\n"
     ]
    }
   ],
   "source": [
    "for error in test_errors:\n",
    "    print(round(error, 3))"
   ]
  },
  {
   "cell_type": "markdown",
   "id": "31c16013",
   "metadata": {},
   "source": [
    "### 3."
   ]
  },
  {
   "cell_type": "code",
   "execution_count": 55,
   "id": "bccdca2e",
   "metadata": {},
   "outputs": [],
   "source": [
    "from sklearn import neural_network\n",
    "\n",
    "mlp = neural_network.MLPClassifier(hidden_layer_sizes=(32, 16, 10), activation='logistic',\n",
    "          batch_size=100, learning_rate='constant')\n",
    "\n",
    "batch_size = 100\n",
    "epoch = 30\n",
    "for i in range(epoch):\n",
    "    # train the model for 1 epoch \n",
    "    for iter_ in range(X_train.shape[0] // batch_size):\n",
    "        xt = X_train[iter_ * batch_size: (iter_ + 1) * batch_size]\n",
    "        yt = y_train[iter_ * batch_size: (iter_ + 1) * batch_size]\n",
    "        mlp.partial_fit(xt, yt, classes = [0, 1,2,3,4,5,6,7,8,9])\n",
    "    \n",
    "    #calculate the train and test errors\n",
    "    accus = []\n",
    "    for iter_ in range(X_train.shape[0] // batch_size):\n",
    "        xt = X_train[iter_ * batch_size: (iter_ + 1) * batch_size]\n",
    "        yt = y_train[iter_ * batch_size: (iter_ + 1) * batch_size]\n",
    "        predictions = mlp.predict(xt)\n",
    "        accus.append(accuracy(yt, predictions))\n",
    "    trian_errors.append(1 - np.mean(accus))\n",
    "        \n",
    "    accus = []\n",
    "    for iter_ in range(X_test.shape[0] // batch_size):\n",
    "        xt = X_test[iter_ * batch_size: (iter_ + 1) * batch_size]\n",
    "        yt = y_test[iter_ * batch_size: (iter_ + 1) * batch_size]\n",
    "        predictions = mlp.predict(xt)\n",
    "        accus.append(accuracy(yt, predictions))\n",
    "    test_errors.append(1 - np.mean(accus))\n",
    "\n"
   ]
  },
  {
   "cell_type": "code",
   "execution_count": 58,
   "id": "6d147483",
   "metadata": {},
   "outputs": [
    {
     "data": {
      "image/png": "[encoded data removed]",
      "text/plain": [
       "<Figure size 504x360 with 1 Axes>"
      ]
     },
     "metadata": {
      "needs_background": "light"
     },
     "output_type": "display_data"
    }
   ],
   "source": [
    "# draw the learning curve\n",
    "import matplotlib.pyplot as plt\n",
    "\n",
    "plt.figure(figsize = (7, 5))\n",
    "plt.plot(range(1, len(trian_errors) + 1),  trian_errors)\n",
    "plt.plot(range(1, len(test_errors) + 1),  test_errors)\n",
    "plt.legend(['trian error', 'test error'])\n",
    "plt.xlabel('epoch')\n",
    "plt.ylabel('error')\n",
    "plt.title('The learning curve of my network model')\n",
    "plt.show()"
   ]
  },
  {
   "cell_type": "code",
   "execution_count": 59,
   "id": "2ea2fc07",
   "metadata": {},
   "outputs": [
    {
     "name": "stdout",
     "output_type": "stream",
     "text": [
      "Test error:\n"
     ]
    },
    {
     "data": {
      "text/plain": [
       "0.08435714285714291"
      ]
     },
     "execution_count": 59,
     "metadata": {},
     "output_type": "execute_result"
    }
   ],
   "source": [
    "print('Test error:')\n",
    "test_errors[-1]W"
   ]
  },
  {
   "cell_type": "markdown",
   "id": "3c35d367",
   "metadata": {},
   "source": [
    "### 4."
   ]
  },
  {
   "cell_type": "code",
   "execution_count": 72,
   "id": "242b33f4",
   "metadata": {},
   "outputs": [
    {
     "name": "stderr",
     "output_type": "stream",
     "text": [
      "/var/folders/yk/2bzs17_n4nv4sbv6lbhlhd2c0000gn/T/ipykernel_32904/4247078838.py:4: RuntimeWarning: overflow encountered in exp\n",
      "  return 1 / (1 + np.exp(-x))\n"
     ]
    },
    {
     "name": "stdout",
     "output_type": "stream",
     "text": [
      "0.1358571428571429\n"
     ]
    }
   ],
   "source": [
    "W1 = (np.random.rand(inputdim, h1) - 0.5) * 2 \n",
    "W2 = (np.random.rand(h1, h2) - 0.5) * 2 \n",
    "W3 = (np.random.rand(h2, outdim) - 0.5) * 2  \n",
    "trian_errors1 = []\n",
    "test_errors1 = []\n",
    "for i in range(epoch):\n",
    "    # gradient descent backpropagation \n",
    "    for iter_ in range(X_train.shape[0] // batch_size):\n",
    "        xt = X_train[iter_ * batch_size: (iter_ + 1) * batch_size]\n",
    "        yt = y_train[iter_ * batch_size: (iter_ + 1) * batch_size]\n",
    "        yt = onehot(yt)\n",
    "        z1, z2, z3, sigma1, sigma2, y_hat = forword(xt, W1, W2, W3)\n",
    "        dw1, dw2, dw3 = backward(xt, yt, y_hat, W1, W2, W3, \\\n",
    "             z1, z2, z3, sigma1, sigma2)\n",
    "        W1 = W1 - lr * dw1\n",
    "        W2 = W2 - lr * dw2\n",
    "        W3 = W3 - lr * dw3\n",
    "    \n",
    "    #calculate the train and test errors\n",
    "    accus = []\n",
    "    for iter_ in range(X_train.shape[0] // batch_size):\n",
    "        xt = X_train[iter_ * batch_size: (iter_ + 1) * batch_size]\n",
    "        y_ = y_train[iter_ * batch_size: (iter_ + 1) * batch_size]\n",
    "        yt = onehot(y_)\n",
    "        pre_probs, predictions = predict(xt, W1, W2, W3)\n",
    "        accus.append(accuracy(y_, predictions))\n",
    "    trian_errors1.append(1 - np.mean(accus))\n",
    "        \n",
    "    accus = []\n",
    "    for iter_ in range(X_test.shape[0] // batch_size):\n",
    "        xt = X_test[iter_ * batch_size: (iter_ + 1) * batch_size]\n",
    "        y_ = y_test[iter_ * batch_size: (iter_ + 1) * batch_size]\n",
    "        yt = onehot(y_)\n",
    "        pre_probs, predictions = predict(xt, W1, W2, W3)\n",
    "        accus.append(accuracy(y_, predictions))\n",
    "    test_errors1.append(1 - np.mean(accus))\n",
    "\n",
    "\n",
    "print(test_errors1[-1])"
   ]
  },
  {
   "cell_type": "code",
   "execution_count": 73,
   "id": "6f5c73f7",
   "metadata": {},
   "outputs": [
    {
     "name": "stderr",
     "output_type": "stream",
     "text": [
      "/var/folders/yk/2bzs17_n4nv4sbv6lbhlhd2c0000gn/T/ipykernel_32904/4247078838.py:4: RuntimeWarning: overflow encountered in exp\n",
      "  return 1 / (1 + np.exp(-x))\n"
     ]
    },
    {
     "name": "stdout",
     "output_type": "stream",
     "text": [
      "0.8863571428571428\n"
     ]
    }
   ],
   "source": [
    "W1 = np.zeros((inputdim, h1))\n",
    "W2 = np.zeros((h1, h2)) \n",
    "W3 = np.zeros((h2, outdim)) \n",
    "trian_errors2 = []\n",
    "test_errors2 = []\n",
    "for i in range(epoch):\n",
    "    # gradient descent backpropagation \n",
    "    for iter_ in range(X_train.shape[0] // batch_size):\n",
    "        xt = X_train[iter_ * batch_size: (iter_ + 1) * batch_size]\n",
    "        yt = y_train[iter_ * batch_size: (iter_ + 1) * batch_size]\n",
    "        yt = onehot(yt)\n",
    "        z1, z2, z3, sigma1, sigma2, y_hat = forword(xt, W1, W2, W3)\n",
    "        dw1, dw2, dw3 = backward(xt, yt, y_hat, W1, W2, W3, \\\n",
    "             z1, z2, z3, sigma1, sigma2)\n",
    "        W1 = W1 - lr * dw1\n",
    "        W2 = W2 - lr * dw2\n",
    "        W3 = W3 - lr * dw3\n",
    "    \n",
    "    #calculate the train and test errors\n",
    "    accus = []\n",
    "    for iter_ in range(X_train.shape[0] // batch_size):\n",
    "        xt = X_train[iter_ * batch_size: (iter_ + 1) * batch_size]\n",
    "        y_ = y_train[iter_ * batch_size: (iter_ + 1) * batch_size]\n",
    "        yt = onehot(y_)\n",
    "        pre_probs, predictions = predict(xt, W1, W2, W3)\n",
    "        accus.append(accuracy(y_, predictions))\n",
    "    trian_errors2.append(1 - np.mean(accus))\n",
    "        \n",
    "    accus = []\n",
    "    for iter_ in range(X_test.shape[0] // batch_size):\n",
    "        xt = X_test[iter_ * batch_size: (iter_ + 1) * batch_size]\n",
    "        y_ = y_test[iter_ * batch_size: (iter_ + 1) * batch_size]\n",
    "        yt = onehot(y_)\n",
    "        pre_probs, predictions = predict(xt, W1, W2, W3)\n",
    "        accus.append(accuracy(y_, predictions))\n",
    "    test_errors2.append(1 - np.mean(accus))\n",
    "\n",
    "\n",
    "print(test_errors2[-1])"
   ]
  },
  {
   "cell_type": "code",
   "execution_count": 71,
   "id": "885a30f5",
   "metadata": {},
   "outputs": [
    {
     "data": {
      "image/png": "[encoded data removed]",
      "text/plain": [
       "<Figure size 504x360 with 1 Axes>"
      ]
     },
     "metadata": {
      "needs_background": "light"
     },
     "output_type": "display_data"
    }
   ],
   "source": [
    "# draw the learning curve\n",
    "import matplotlib.pyplot as plt\n",
    "\n",
    "plt.figure(figsize = (7, 5))\n",
    "plt.plot(range(1, len(trian_errors1) + 1),  trian_errors1)\n",
    "plt.plot(range(1, len(test_errors1) + 1),  test_errors1)\n",
    "plt.plot(range(1, len(trian_errors2) + 1),  trian_errors2)\n",
    "plt.plot(range(1, len(test_errors2) + 1),  test_errors2)\n",
    "plt.legend(['trian error initializ weights [-1, 1]', 'test error initializ weights [-1, 1]',  \\\n",
    "           'trian error initializ weights zero', 'test error initializ weights zero'])\n",
    "plt.xlabel('epoch')\n",
    "plt.ylabel('error')\n",
    "plt.title('The learning curve of my network model')\n",
    "plt.show()\n"
   ]
  },
  {
   "cell_type": "code",
   "execution_count": null,
   "id": "25d30408",
   "metadata": {},
   "outputs": [],
   "source": []
  }
 ],
 "metadata": {
  "kernelspec": {
   "display_name": "Python 3 (ipykernel)",
   "language": "python",
   "name": "python3"
  },
  "language_info": {
   "codemirror_mode": {
    "name": "ipython",
    "version": 3
   },
   "file_extension": ".py",
   "mimetype": "text/x-python",
   "name": "python",
   "nbconvert_exporter": "python",
   "pygments_lexer": "ipython3",
   "version": "3.9.13"
  }
 },
 "nbformat": 4,
 "nbformat_minor": 5
}
